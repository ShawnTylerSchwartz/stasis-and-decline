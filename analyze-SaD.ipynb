{
 "cells": [
  {
   "cell_type": "markdown",
   "metadata": {},
   "source": [
    "# Analyze SaD (Stasis and Decline)"
   ]
  },
  {
   "cell_type": "markdown",
   "metadata": {},
   "source": [
    "## Imports"
   ]
  },
  {
   "cell_type": "code",
   "execution_count": 1,
   "metadata": {},
   "outputs": [],
   "source": [
    "#Shawn Schwartz\n",
    "#Alfaro Lab UCLA, 2019\n",
    "#shawnschwartz@ucla.edu\n",
    "import os\n",
    "import numpy as np\n",
    "import pandas as pd\n",
    "from sklearn import svm\n",
    "from sklearn.svm import SVC"
   ]
  },
  {
   "cell_type": "markdown",
   "metadata": {},
   "source": [
    "## Declare Functions"
   ]
  },
  {
   "cell_type": "code",
   "execution_count": 2,
   "metadata": {},
   "outputs": [],
   "source": [
    "def read_data(eigenvals, labels):\n",
    "    #inputs:\n",
    "    ##eigenvals: headerless .csv file path where rows represent an \n",
    "    ##n-row x m-column vector, and columns are each n-element \n",
    "    ##of the vector (row-wise)\n",
    "    ##\n",
    "    ##labels: .dat file path with a n-row x 1-column series of numerical\n",
    "    ##integers indicative of the label/identifier of the corresponding\n",
    "    ##row from the eigenvals input .csv file\n",
    "    #\n",
    "    #return:\n",
    "    ##eigenvals_out: pandas dataframe of eigenvalues\n",
    "    ##\n",
    "    ##labels_out: numpy array of labels\n",
    "    \n",
    "    eigenvals_out = pd.read_csv(eigenvals, header=None)\n",
    "    labels_out = np.loadtxt(labels)\n",
    "    \n",
    "    return eigenvals_out, labels_out\n",
    "\n",
    "def prepare_data(eigenvals, labels):\n",
    "    #inputs:\n",
    "    ##eigenvals: pandas dataframe of eigenvalues\n",
    "    ##\n",
    "    ##labels: numpy array of labels\n",
    "    #\n",
    "    #return:\n",
    "    ##eigenvals_out: numpy array of eigenvals\n",
    "    ##\n",
    "    ##labels_out: numpy array of eigenvals\n",
    "    \n",
    "    eigenvals_out = np.array(eigenvals)\n",
    "    labels_out = np.array(labels)\n",
    "    \n",
    "    #check if numpy arrays are the same shape\n",
    "    if (eigenvals_out.shape[0] == labels_out.shape[0]):\n",
    "        print(\"Success: Eigenvalues Match Label Shape!\")\n",
    "        return eigenvals_out, labels_out\n",
    "    else:\n",
    "        print(\"Failure: Eigenvalues DON'T Match Label Shape!\")\n",
    "        exit()\n",
    "\n",
    "def train_svm_data(eigenvals, labels, gamma):\n",
    "    #inputs:\n",
    "    ##eigenvals: numpy array of eigenvals\n",
    "    ##\n",
    "    ##labels: numpy array of eigenvals\n",
    "    ##\n",
    "    ##gamma: kernal function parameter defined in the SVC model\n",
    "    #\n",
    "    #return:\n",
    "    ##clf: clf model\n",
    "    ##\n",
    "    ##clf_score: clf score from svm SVC fit/train\n",
    "    \n",
    "    clf = svm.SVC(gamma=gamma)\n",
    "    clf.fit(eigenvals, labels)\n",
    "    SVC(C=1.0, cache_size=200, class_weight=None, coef0=0.0,\n",
    "        decision_function_shape='ovr', degree=3, gamma=gamma, kernel='rbf',\n",
    "        max_iter=-1, probability=False, random_state=None, shrinking=True,\n",
    "        tol=0.001, verbose=False)\n",
    "    clf_score = clf.score(eigenvals, labels)\n",
    "    \n",
    "    return clf, clf_score\n",
    "\n",
    "def predict_stasis_decline(eigenvals, model):\n",
    "    #inputs:\n",
    "    ##eigenvals: headerless .csv file path where rows represent an \n",
    "    ##n-row x m-column vector, and columns are each n-element \n",
    "    ##of the vector (row-wise)\n",
    "    ##\n",
    "    ##model: clf model\n",
    "    #\n",
    "    #return:\n",
    "    ##prediction: predicted numpy array of labels corresponding to newly\n",
    "    ##input eigenvals headerless .csv file\n",
    "    \n",
    "    eigenvals_data = pd.read_csv(eigenvals, header=None)\n",
    "    prediction = model.predict(np.array(eigenvals_data))\n",
    "    \n",
    "    print(\"\\nPredicted labels for new eigenvalues:\\n(0=Stasis; 1=Decline)\")\n",
    "    return prediction\n",
    "\n",
    "def score_predictions(prediction, truths):\n",
    "    #inputs:\n",
    "    ##prediction_score: numpy array of predicted labels for new input data\n",
    "    ##\n",
    "    ##truths: .dat file path with a n-row x 1-column series of numerical\n",
    "    ##integers indicative of the label/identifier of the corresponding\n",
    "    ##row from the eigenvals input .csv file\n",
    "    #\n",
    "    #return:\n",
    "    ##prediction_score: proportion correctly classified\n",
    "    \n",
    "    correct = 0\n",
    "    total = len(prediction)\n",
    "    truths = np.loadtxt(truths)\n",
    "    \n",
    "    for ii in range(0,total):\n",
    "        if prediction[ii] == truths[ii]:\n",
    "            correct = correct + 1\n",
    "    \n",
    "    prediction_score = correct/total\n",
    "\n",
    "    print(\"\\nPrediction accuracy score:\")\n",
    "    return prediction_score"
   ]
  },
  {
   "cell_type": "markdown",
   "metadata": {},
   "source": [
    "## Main Program Run"
   ]
  },
  {
   "cell_type": "code",
   "execution_count": 3,
   "metadata": {},
   "outputs": [
    {
     "name": "stdout",
     "output_type": "stream",
     "text": [
      "Success: Eigenvalues Match Label Shape!\n",
      "Clf score:  1.0\n",
      "\n",
      "Predicted labels for new eigenvalues:\n",
      "(0=Stasis; 1=Decline)\n",
      "\n",
      "Prediction accuracy score:\n",
      "100.0 %\n"
     ]
    }
   ],
   "source": [
    "#constant filepath values\n",
    "DATAFILES_DIR = 'input_data'\n",
    "EIGENVALS_TRAIN = os.path.join(DATAFILES_DIR, 'eigenvalues_train.csv')\n",
    "LABELS_TRAIN = os.path.join(DATAFILES_DIR, 'labels_train.dat')\n",
    "EIGENVALS_TEST = os.path.join(DATAFILES_DIR, 'eigenvalues_test.csv')\n",
    "LABELS_TEST = os.path.join(DATAFILES_DIR, 'labels_test.dat')\n",
    "\n",
    "#prep data\n",
    "X,y = read_data(EIGENVALS_TRAIN, LABELS_TRAIN)\n",
    "X,y = prepare_data(X, y)\n",
    "\n",
    "#train svm model\n",
    "clf_model, clf_train_score = train_svm_data(X, y, 'scale')\n",
    "print(\"Clf score: \", clf_train_score)\n",
    "\n",
    "#predict new data\n",
    "predicted_labels = predict_stasis_decline(EIGENVALS_TEST, clf_model)\n",
    "\n",
    "#score prediction accuracy\n",
    "prediction_accuracy_score = score_predictions(predicted_labels, LABELS_TEST)\n",
    "print(prediction_accuracy_score*100,\"%\")"
   ]
  }
 ],
 "metadata": {
  "kernelspec": {
   "display_name": "Python 3",
   "language": "python",
   "name": "python3"
  },
  "language_info": {
   "codemirror_mode": {
    "name": "ipython",
    "version": 3
   },
   "file_extension": ".py",
   "mimetype": "text/x-python",
   "name": "python",
   "nbconvert_exporter": "python",
   "pygments_lexer": "ipython3",
   "version": "3.6.5"
  }
 },
 "nbformat": 4,
 "nbformat_minor": 2
}
